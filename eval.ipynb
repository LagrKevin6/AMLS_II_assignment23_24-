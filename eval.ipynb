{
 "cells": [
  {
   "cell_type": "code",
   "execution_count": 33,
   "metadata": {},
   "outputs": [
    {
     "name": "stdout",
     "output_type": "stream",
     "text": [
      "Setting up [LPIPS] perceptual loss: trunk [alex], v[0.1], spatial [off]\n"
     ]
    },
    {
     "name": "stderr",
     "output_type": "stream",
     "text": [
      "C:\\Users\\zhujy\\AppData\\Roaming\\Python\\Python311\\site-packages\\torchvision\\models\\_utils.py:208: UserWarning: The parameter 'pretrained' is deprecated since 0.13 and may be removed in the future, please use 'weights' instead.\n",
      "  warnings.warn(\n",
      "C:\\Users\\zhujy\\AppData\\Roaming\\Python\\Python311\\site-packages\\torchvision\\models\\_utils.py:223: UserWarning: Arguments other than a weight enum or `None` for 'weights' are deprecated since 0.13 and may be removed in the future. The current behavior is equivalent to passing `weights=AlexNet_Weights.IMAGENET1K_V1`. You can also use `weights=AlexNet_Weights.DEFAULT` to get the most up-to-date weights.\n",
      "  warnings.warn(msg)\n"
     ]
    },
    {
     "name": "stdout",
     "output_type": "stream",
     "text": [
      "Loading model from: C:\\Users\\zhujy\\AppData\\Roaming\\Python\\Python311\\site-packages\\lpips\\weights\\v0.1\\alex.pth\n"
     ]
    }
   ],
   "source": [
    "import numpy as np\n",
    "from skimage.metrics import peak_signal_noise_ratio as psnr\n",
    "from skimage.metrics import structural_similarity as ssim\n",
    "from skimage.metrics import mean_squared_error as mse\n",
    "from skimage.io import imread\n",
    "from skimage import img_as_float\n",
    "from skimage.transform import resize\n",
    "\n",
    "import lpips\n",
    "import torch\n",
    "from PIL import Image\n",
    "from torchvision.transforms import ToTensor\n",
    "\n",
    "def evaluate_images(original_path, super_res_path):\n",
    "    # Loading images\n",
    "    original = img_as_float(imread(original_path))\n",
    "    super_res = img_as_float(imread(super_res_path))\n",
    "    \n",
    "    # resizing the sr images if needed\n",
    "    if original.shape != super_res.shape:\n",
    "        super_res = resize(super_res, original.shape, anti_aliasing=True)\n",
    "\n",
    "    # Calculate PSNR, SSIM and MSE\n",
    "    psnr_value = psnr(original, super_res, data_range=original.max() - original.min())\n",
    "    ssim_value = ssim(original, super_res, win_size=5, data_range= 1 ,channel_axis=-1)\n",
    "    mse_value = mse(original, super_res)\n",
    "    \n",
    "    return psnr_value, ssim_value, mse_value\n",
    "\n",
    "def load_image_as_tensor(image_path):\n",
    "    image = Image.open(image_path).convert('RGB')\n",
    "    tensor = ToTensor()(image).unsqueeze(0)  # Add batch dimension\n",
    "    return tensor\n",
    "\n",
    "def evaluate_lpips(original_path, super_res_path, model = lpips.LPIPS(net='alex')):\n",
    "    \n",
    "    # load images as tensors\n",
    "    image1 = load_image_as_tensor(original_path)\n",
    "    image2 = load_image_as_tensor(super_res_path)  \n",
    "\n",
    "    image1, image2 = image1.cuda(), image2.cuda()\n",
    "    model = model.cuda()  \n",
    "\n",
    "    with torch.no_grad():\n",
    "        distance = model(image1, image2)\n",
    "\n",
    "    return distance.item()"
   ]
  },
  {
   "cell_type": "code",
   "execution_count": 36,
   "metadata": {},
   "outputs": [
    {
     "name": "stdout",
     "output_type": "stream",
     "text": [
      "Setting up [LPIPS] perceptual loss: trunk [alex], v[0.1], spatial [off]\n"
     ]
    },
    {
     "name": "stderr",
     "output_type": "stream",
     "text": [
      "C:\\Users\\zhujy\\AppData\\Roaming\\Python\\Python311\\site-packages\\torchvision\\models\\_utils.py:208: UserWarning: The parameter 'pretrained' is deprecated since 0.13 and may be removed in the future, please use 'weights' instead.\n",
      "  warnings.warn(\n",
      "C:\\Users\\zhujy\\AppData\\Roaming\\Python\\Python311\\site-packages\\torchvision\\models\\_utils.py:223: UserWarning: Arguments other than a weight enum or `None` for 'weights' are deprecated since 0.13 and may be removed in the future. The current behavior is equivalent to passing `weights=AlexNet_Weights.IMAGENET1K_V1`. You can also use `weights=AlexNet_Weights.DEFAULT` to get the most up-to-date weights.\n",
      "  warnings.warn(msg)\n"
     ]
    },
    {
     "name": "stdout",
     "output_type": "stream",
     "text": [
      "Loading model from: C:\\Users\\zhujy\\AppData\\Roaming\\Python\\Python311\\site-packages\\lpips\\weights\\v0.1\\alex.pth\n",
      "PSNR = 25.75511919968427, SSIM = 0.6955485732967995, MSE = 0.0033952755938017284, LPIPS = 0.17875550128519535\n",
      "PSNR = 18.419705661402272, SSIM = 0.332301333047278, MSE = 0.014388960946473352, LPIPS = 0.3721003234386444\n"
     ]
    }
   ],
   "source": [
    "import os\n",
    "\n",
    "original_folder = \"..\\DIV2K_valid_HR\\DIV2K_valid_HR\"\n",
    "super_res_folder = \"validation_output\"\n",
    "\n",
    "# loading alex model for lpips eval\n",
    "lpips_model = lpips.LPIPS(net='alex')\n",
    "\n",
    "psnr_aver, ssim_aver, mse_aver, lpips_aver = [], [], [], []\n",
    "\n",
    "# Assuming file names are consistent between folders\n",
    "for file_name in os.listdir(super_res_folder):\n",
    "\n",
    "    # trimming the output file name\n",
    "    file_name_s = file_name[:-6] + file_name[-4:]\n",
    "\n",
    "    original_path = os.path.join(original_folder, file_name_s)\n",
    "    super_res_path = os.path.join(super_res_folder, file_name)\n",
    "\n",
    "    # Evaluate images\n",
    "    psnr_value, ssim_value, mse_value = evaluate_images(original_path, super_res_path)\n",
    "    lpips_value = evaluate_lpips(original_path, super_res_path)\n",
    "    \n",
    "    psnr_aver.append(psnr_value)\n",
    "    ssim_aver.append(ssim_value)\n",
    "    mse_aver.append(mse_value)\n",
    "    lpips_aver.append(lpips_value)\n"
   ]
  },
  {
   "cell_type": "code",
   "execution_count": 38,
   "metadata": {},
   "outputs": [
    {
     "name": "stdout",
     "output_type": "stream",
     "text": [
      "PSNR = 25.75511919968427, SSIM = 0.6955485732967995, MSE = 0.0033952755938017284, LPIPS = 0.17875550128519535\n",
      "PSNR = 18.419705661402272, SSIM = 0.332301333047278, MSE = 0.014388960946473352, LPIPS = 0.3721003234386444\n"
     ]
    }
   ],
   "source": [
    "\n",
    "print(f\"PSNR = {np.mean(psnr_aver)}, SSIM = {np.mean(ssim_aver)}, MSE = {np.mean(mse_aver)}, LPIPS = {np.mean(lpips_aver)}\")\n",
    "print(f\"PSNR = {np.min(psnr_aver)}, SSIM = {np.min(ssim_aver)}, MSE = {np.max(mse_aver)}, LPIPS = {np.max(lpips_aver)}\")\n"
   ]
  }
 ],
 "metadata": {
  "kernelspec": {
   "display_name": "base",
   "language": "python",
   "name": "python3"
  },
  "language_info": {
   "codemirror_mode": {
    "name": "ipython",
    "version": 3
   },
   "file_extension": ".py",
   "mimetype": "text/x-python",
   "name": "python",
   "nbconvert_exporter": "python",
   "pygments_lexer": "ipython3",
   "version": "3.11.7"
  }
 },
 "nbformat": 4,
 "nbformat_minor": 2
}
